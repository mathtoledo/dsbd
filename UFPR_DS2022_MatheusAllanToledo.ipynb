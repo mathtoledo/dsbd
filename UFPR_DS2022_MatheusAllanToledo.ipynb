{
  "nbformat": 4,
  "nbformat_minor": 0,
  "metadata": {
    "colab": {
      "provenance": [],
      "collapsed_sections": [
        "rvczoHQAWW7x",
        "mczjNlyYWewl",
        "80V0kTzSYM1f",
        "_Yn7Hgj8fReH",
        "IJm7qym5k2ee"
      ],
      "include_colab_link": true
    },
    "kernelspec": {
      "name": "python3",
      "display_name": "Python 3"
    },
    "language_info": {
      "name": "python"
    }
  },
  "cells": [
    {
      "cell_type": "markdown",
      "metadata": {
        "id": "view-in-github",
        "colab_type": "text"
      },
      "source": [
        "<a href=\"https://colab.research.google.com/github/mathtoledo/dsbd/blob/main/UFPR_DS2022_MatheusAllanToledo.ipynb\" target=\"_parent\"><img src=\"https://colab.research.google.com/assets/colab-badge.svg\" alt=\"Open In Colab\"/></a>"
      ]
    },
    {
      "cell_type": "markdown",
      "source": [
        "# Instalando o DuckDB"
      ],
      "metadata": {
        "id": "rvczoHQAWW7x"
      }
    },
    {
      "cell_type": "code",
      "execution_count": null,
      "metadata": {
        "colab": {
          "base_uri": "https://localhost:8080/"
        },
        "id": "e5ZsZMbLjLNd",
        "outputId": "922ef205-3981-46a3-fd87-b07d802a8524"
      },
      "outputs": [
        {
          "output_type": "stream",
          "name": "stdout",
          "text": [
            "Looking in indexes: https://pypi.org/simple, https://us-python.pkg.dev/colab-wheels/public/simple/\n",
            "Collecting duckdb==0.6\n",
            "  Downloading duckdb-0.6.0-cp38-cp38-manylinux_2_17_x86_64.manylinux2014_x86_64.whl (14.4 MB)\n",
            "\u001b[K     |████████████████████████████████| 14.4 MB 71 kB/s \n",
            "\u001b[?25hRequirement already satisfied: numpy>=1.14 in /usr/local/lib/python3.8/dist-packages (from duckdb==0.6) (1.21.6)\n",
            "Installing collected packages: duckdb\n",
            "Successfully installed duckdb-0.6.0\n"
          ]
        }
      ],
      "source": [
        "!pip install 'duckdb==0.6'"
      ]
    },
    {
      "cell_type": "markdown",
      "source": [
        "# Carregando os arquivos necessários"
      ],
      "metadata": {
        "id": "mczjNlyYWewl"
      }
    },
    {
      "cell_type": "markdown",
      "source": [
        "Dados metereológicos, dia a dia, da cidade de NY do ano de 2016"
      ],
      "metadata": {
        "id": "1Ms_Z429WjFJ"
      }
    },
    {
      "cell_type": "code",
      "source": [
        "!wget \"https://pdet.github.io/assets/data/weather.csv\""
      ],
      "metadata": {
        "id": "6pfMK708Kc3d",
        "colab": {
          "base_uri": "https://localhost:8080/"
        },
        "outputId": "38e676da-dd31-4143-a8f7-d8fe9149bdca"
      },
      "execution_count": null,
      "outputs": [
        {
          "output_type": "stream",
          "name": "stdout",
          "text": [
            "--2022-12-01 20:57:48--  https://pdet.github.io/assets/data/weather.csv\n",
            "Resolving pdet.github.io (pdet.github.io)... 185.199.108.153, 185.199.109.153, 185.199.110.153, ...\n",
            "Connecting to pdet.github.io (pdet.github.io)|185.199.108.153|:443... connected.\n",
            "HTTP request sent, awaiting response... 200 OK\n",
            "Length: 11145 (11K) [text/csv]\n",
            "Saving to: ‘weather.csv’\n",
            "\n",
            "\rweather.csv           0%[                    ]       0  --.-KB/s               \rweather.csv         100%[===================>]  10.88K  --.-KB/s    in 0s      \n",
            "\n",
            "2022-12-01 20:57:48 (68.2 MB/s) - ‘weather.csv’ saved [11145/11145]\n",
            "\n"
          ]
        }
      ]
    },
    {
      "cell_type": "markdown",
      "source": [
        "Dados das corridas de taxi do mês de Janeiro de 2016 na cidade de NY"
      ],
      "metadata": {
        "id": "gzfTtC9yW4k8"
      }
    },
    {
      "cell_type": "code",
      "source": [
        "!wget \"https://d37ci6vzurychx.cloudfront.net/trip-data/yellow_tripdata_2016-01.parquet\""
      ],
      "metadata": {
        "colab": {
          "base_uri": "https://localhost:8080/"
        },
        "id": "Qi9YLVEiXGJV",
        "outputId": "48a2edb5-f1ee-45a6-8d88-635c9dcb1161"
      },
      "execution_count": null,
      "outputs": [
        {
          "output_type": "stream",
          "name": "stdout",
          "text": [
            "--2022-12-01 20:57:51--  https://d37ci6vzurychx.cloudfront.net/trip-data/yellow_tripdata_2016-01.parquet\n",
            "Resolving d37ci6vzurychx.cloudfront.net (d37ci6vzurychx.cloudfront.net)... 65.8.245.51, 65.8.245.50, 65.8.245.178, ...\n",
            "Connecting to d37ci6vzurychx.cloudfront.net (d37ci6vzurychx.cloudfront.net)|65.8.245.51|:443... connected.\n",
            "HTTP request sent, awaiting response... 200 OK\n",
            "Length: 151251087 (144M) [application/x-www-form-urlencoded]\n",
            "Saving to: ‘yellow_tripdata_2016-01.parquet’\n",
            "\n",
            "yellow_tripdata_201 100%[===================>] 144.24M   125MB/s    in 1.2s    \n",
            "\n",
            "2022-12-01 20:57:52 (125 MB/s) - ‘yellow_tripdata_2016-01.parquet’ saved [151251087/151251087]\n",
            "\n"
          ]
        }
      ]
    },
    {
      "cell_type": "markdown",
      "source": [
        "# Importar as Bibliotecas"
      ],
      "metadata": {
        "id": "80V0kTzSYM1f"
      }
    },
    {
      "cell_type": "code",
      "source": [
        "import pandas as pd\n",
        "import duckdb\n",
        "# acrescente aqui as outras bibliotecas eventualmente necessárias ao seu projeto\n"
      ],
      "metadata": {
        "id": "4h-t5G0UYQPu"
      },
      "execution_count": null,
      "outputs": []
    },
    {
      "cell_type": "markdown",
      "source": [
        "# Carregar os Dados nas tabelas"
      ],
      "metadata": {
        "id": "_Yn7Hgj8fReH"
      }
    },
    {
      "cell_type": "code",
      "source": [
        "# Conexão com a base\n",
        "duck_conn = duckdb.connect('store.db')\n",
        "\n",
        "# Existem várias maneiras de se ler os dados e criar tabelas relacionais a partir deles\n",
        "# Neste exemplo vamos ler diretamente os dados do formato original e criar uma tabela.\n",
        "\n",
        "# Criando tabelas a partir dos dados lidos\n",
        "duck_conn.execute(\"CREATE TABLE cab_trip as SELECT * FROM 'yellow_tripdata_2016-01.parquet'\")\n",
        "duck_conn.execute(\"CREATE TABLE weather as SELECT * FROM 'weather.csv'\")\n",
        "\n",
        "# Obtendo e mostrando a descrição dos dados\n",
        "duck_rel = duckdb.from_parquet('yellow_tripdata_2016-01.parquet')\n",
        "print(duck_rel)\n",
        "\n",
        "duck_rel = duckdb.from_csv_auto('weather.csv')\n",
        "print(duck_rel)\n"
      ],
      "metadata": {
        "colab": {
          "base_uri": "https://localhost:8080/"
        },
        "id": "DBuiiuSSe4IK",
        "outputId": "99e1108c-b905-4753-f7ff-0a9188fd4b28"
      },
      "execution_count": null,
      "outputs": [
        {
          "output_type": "stream",
          "name": "stdout",
          "text": [
            "---------------------\n",
            "--- Relation Tree ---\n",
            "---------------------\n",
            "parquet_scan(yellow_tripdata_2016-01.parquet)\n",
            "\n",
            "---------------------\n",
            "-- Result Columns  --\n",
            "---------------------\n",
            "- VendorID (BIGINT)\n",
            "- tpep_pickup_datetime (TIMESTAMP)\n",
            "- tpep_dropoff_datetime (TIMESTAMP)\n",
            "- passenger_count (BIGINT)\n",
            "- trip_distance (DOUBLE)\n",
            "- RatecodeID (BIGINT)\n",
            "- store_and_fwd_flag (VARCHAR)\n",
            "- PULocationID (BIGINT)\n",
            "- DOLocationID (BIGINT)\n",
            "- payment_type (BIGINT)\n",
            "- fare_amount (DOUBLE)\n",
            "- extra (DOUBLE)\n",
            "- mta_tax (DOUBLE)\n",
            "- tip_amount (DOUBLE)\n",
            "- tolls_amount (DOUBLE)\n",
            "- improvement_surcharge (DOUBLE)\n",
            "- total_amount (DOUBLE)\n",
            "- congestion_surcharge (INTEGER)\n",
            "- airport_fee (INTEGER)\n",
            "\n",
            "---------------------\n",
            "-- Result Preview  --\n",
            "---------------------\n",
            "VendorID\ttpep_pickup_datetime\ttpep_dropoff_datetime\tpassenger_count\ttrip_distance\tRatecodeID\tstore_and_fwd_flag\tPULocationID\tDOLocationID\tpayment_type\tfare_amount\textra\tmta_tax\ttip_amount\ttolls_amount\timprovement_surcharge\ttotal_amount\tcongestion_surcharge\tairport_fee\t\n",
            "BIGINT\tTIMESTAMP\tTIMESTAMP\tBIGINT\tDOUBLE\tBIGINT\tVARCHAR\tBIGINT\tBIGINT\tBIGINT\tDOUBLE\tDOUBLE\tDOUBLE\tDOUBLE\tDOUBLE\tDOUBLE\tDOUBLE\tINTEGER\tINTEGER\t\n",
            "[ Rows: 10]\n",
            "1\t2016-01-01 00:12:22\t2016-01-01 00:29:14\t1\t3.2\t1\tN\t48\t262\t1\t14.0\t0.5\t0.5\t3.06\t0.0\t0.3\t18.36\tNULL\tNULL\n",
            "1\t2016-01-01 00:41:31\t2016-01-01 00:55:10\t2\t1.0\t1\tN\t162\t48\t2\t9.5\t0.5\t0.5\t0.0\t0.0\t0.3\t10.8\tNULL\tNULL\n",
            "1\t2016-01-01 00:53:37\t2016-01-01 00:59:57\t1\t0.9\t1\tN\t246\t90\t2\t6.0\t0.5\t0.5\t0.0\t0.0\t0.3\t7.3\tNULL\tNULL\n",
            "1\t2016-01-01 00:13:28\t2016-01-01 00:18:07\t1\t0.8\t1\tN\t170\t162\t2\t5.0\t0.5\t0.5\t0.0\t0.0\t0.3\t6.3\tNULL\tNULL\n",
            "1\t2016-01-01 00:33:04\t2016-01-01 00:47:14\t1\t1.8\t1\tN\t161\t140\t2\t11.0\t0.5\t0.5\t0.0\t0.0\t0.3\t12.3\tNULL\tNULL\n",
            "1\t2016-01-01 00:49:47\t2016-01-01 01:04:44\t1\t2.3\t1\tN\t141\t137\t1\t11.0\t0.5\t0.5\t2.45\t0.0\t0.3\t14.75\tNULL\tNULL\n",
            "1\t2016-01-01 00:41:58\t2016-01-01 01:22:06\t1\t13.8\t1\tN\t100\t53\t2\t43.0\t0.5\t0.5\t0.0\t0.0\t0.3\t44.3\tNULL\tNULL\n",
            "2\t2016-01-01 00:25:28\t2016-01-01 00:55:46\t5\t3.46\t1\tN\t48\t79\t2\t20.0\t0.5\t0.5\t0.0\t0.0\t0.3\t21.3\tNULL\tNULL\n",
            "2\t2016-01-01 00:56:57\t2016-01-01 01:02:24\t4\t0.83\t1\tN\t79\t107\t2\t5.5\t0.5\t0.5\t0.0\t0.0\t0.3\t6.8\tNULL\tNULL\n",
            "2\t2016-01-01 00:10:08\t2016-01-01 00:23:05\t1\t0.87\t1\tN\t164\t164\t2\t7.0\t0.5\t0.5\t0.0\t0.0\t0.3\t8.3\tNULL\tNULL\n",
            "\n",
            "\n",
            "\n",
            "---------------------\n",
            "--- Relation Tree ---\n",
            "---------------------\n",
            "read_csv_auto(weather.csv)\n",
            "\n",
            "---------------------\n",
            "-- Result Columns  --\n",
            "---------------------\n",
            "- date (DATE)\n",
            "- maximum_temperature (INTEGER)\n",
            "- minimum_temperature (INTEGER)\n",
            "- average_temperature (DOUBLE)\n",
            "- precipitation (VARCHAR)\n",
            "- snow_fall (VARCHAR)\n",
            "- snow_depth (VARCHAR)\n",
            "\n",
            "---------------------\n",
            "-- Result Preview  --\n",
            "---------------------\n",
            "date\tmaximum_temperature\tminimum_temperature\taverage_temperature\tprecipitation\tsnow_fall\tsnow_depth\t\n",
            "DATE\tINTEGER\tINTEGER\tDOUBLE\tVARCHAR\tVARCHAR\tVARCHAR\t\n",
            "[ Rows: 10]\n",
            "2016-01-01\t42\t34\t38.0\t0.00\t0.0\t0\n",
            "2016-01-02\t40\t32\t36.0\t0.00\t0.0\t0\n",
            "2016-01-03\t45\t35\t40.0\t0.00\t0.0\t0\n",
            "2016-01-04\t36\t14\t25.0\t0.00\t0.0\t0\n",
            "2016-01-05\t29\t11\t20.0\t0.00\t0.0\t0\n",
            "2016-01-06\t41\t25\t33.0\t0.00\t0.0\t0\n",
            "2016-01-07\t46\t31\t38.5\t0.00\t0.0\t0\n",
            "2016-01-08\t46\t31\t38.5\t0.00\t0.0\t0\n",
            "2016-01-09\t47\t40\t43.5\tT\t0.0\t0\n",
            "2016-01-10\t59\t40\t49.5\t1.80\t0.0\t0\n",
            "\n",
            "\n",
            "\n"
          ]
        }
      ]
    },
    {
      "cell_type": "markdown",
      "source": [
        "# Execução das Queryes"
      ],
      "metadata": {
        "id": "IJm7qym5k2ee"
      }
    },
    {
      "cell_type": "code",
      "source": [
        "# Seta a execução das buscas para utilizarem duas threads\n",
        "duck_conn.execute('PRAGMA threads=2')\n",
        "\n",
        "# Escrever a instrução select e executar, salvando o resultado em um array\n",
        "ComandoSql = \"\"\"SELECT AVG(passenger_count),\n",
        "    AVG(trip_distance),\n",
        "    AVG(fare_amount),\n",
        "    AVG(total_amount)\n",
        "FROM cab_trip \"\"\"\n",
        "\n",
        "Resultado = duck_conn.execute(ComandoSql).fetchall()\n",
        "\n",
        "print(Resultado)\n",
        "\n",
        "# Tips and Tricks\n",
        "# Na instrução abaixo a expresão ::DATE está forçando a coluna \"tpep_pickup_datetime\" a ser convertida para um tipo de Data\n",
        "ComandoSql = \"\"\"SELECT AVG(trip_distance)\n",
        "FROM cab_trip inner join weather on (cab_trip.tpep_pickup_datetime::DATE = weather.date)\n",
        " where total_amount < 10 and maximum_temperature < 50 \"\"\"\n",
        "\n",
        "#Criando um sinônimo para as tabelas\n",
        "duck_taxi = duck_conn.table('cab_trip')\n",
        "duck_weather = duck_conn.table('weather')\n",
        "\n",
        "print(duck_weather)"
      ],
      "metadata": {
        "colab": {
          "base_uri": "https://localhost:8080/"
        },
        "id": "fjN0-8QQk8Be",
        "outputId": "2438ee56-2b5f-4f01-9edb-29df0b022095"
      },
      "execution_count": null,
      "outputs": [
        {
          "output_type": "stream",
          "name": "stdout",
          "text": [
            "[(1.6709121548725927, 4.497235855589042, 12.487202307880976, 15.641974693181337)]\n",
            "---------------------\n",
            "--- Relation Tree ---\n",
            "---------------------\n",
            "Scan Table [cab_trip]\n",
            "\n",
            "---------------------\n",
            "-- Result Columns  --\n",
            "---------------------\n",
            "- VendorID (BIGINT)\n",
            "- tpep_pickup_datetime (TIMESTAMP)\n",
            "- tpep_dropoff_datetime (TIMESTAMP)\n",
            "- passenger_count (BIGINT)\n",
            "- trip_distance (DOUBLE)\n",
            "- RatecodeID (BIGINT)\n",
            "- store_and_fwd_flag (VARCHAR)\n",
            "- PULocationID (BIGINT)\n",
            "- DOLocationID (BIGINT)\n",
            "- payment_type (BIGINT)\n",
            "- fare_amount (DOUBLE)\n",
            "- extra (DOUBLE)\n",
            "- mta_tax (DOUBLE)\n",
            "- tip_amount (DOUBLE)\n",
            "- tolls_amount (DOUBLE)\n",
            "- improvement_surcharge (DOUBLE)\n",
            "- total_amount (DOUBLE)\n",
            "- congestion_surcharge (INTEGER)\n",
            "- airport_fee (INTEGER)\n",
            "\n",
            "---------------------\n",
            "-- Result Preview  --\n",
            "---------------------\n",
            "VendorID\ttpep_pickup_datetime\ttpep_dropoff_datetime\tpassenger_count\ttrip_distance\tRatecodeID\tstore_and_fwd_flag\tPULocationID\tDOLocationID\tpayment_type\tfare_amount\textra\tmta_tax\ttip_amount\ttolls_amount\timprovement_surcharge\ttotal_amount\tcongestion_surcharge\tairport_fee\t\n",
            "BIGINT\tTIMESTAMP\tTIMESTAMP\tBIGINT\tDOUBLE\tBIGINT\tVARCHAR\tBIGINT\tBIGINT\tBIGINT\tDOUBLE\tDOUBLE\tDOUBLE\tDOUBLE\tDOUBLE\tDOUBLE\tDOUBLE\tINTEGER\tINTEGER\t\n",
            "[ Rows: 10]\n",
            "1\t2016-01-01 00:12:22\t2016-01-01 00:29:14\t1\t3.2\t1\tN\t48\t262\t1\t14.0\t0.5\t0.5\t3.06\t0.0\t0.3\t18.36\tNULL\tNULL\n",
            "1\t2016-01-01 00:41:31\t2016-01-01 00:55:10\t2\t1.0\t1\tN\t162\t48\t2\t9.5\t0.5\t0.5\t0.0\t0.0\t0.3\t10.8\tNULL\tNULL\n",
            "1\t2016-01-01 00:53:37\t2016-01-01 00:59:57\t1\t0.9\t1\tN\t246\t90\t2\t6.0\t0.5\t0.5\t0.0\t0.0\t0.3\t7.3\tNULL\tNULL\n",
            "1\t2016-01-01 00:13:28\t2016-01-01 00:18:07\t1\t0.8\t1\tN\t170\t162\t2\t5.0\t0.5\t0.5\t0.0\t0.0\t0.3\t6.3\tNULL\tNULL\n",
            "1\t2016-01-01 00:33:04\t2016-01-01 00:47:14\t1\t1.8\t1\tN\t161\t140\t2\t11.0\t0.5\t0.5\t0.0\t0.0\t0.3\t12.3\tNULL\tNULL\n",
            "1\t2016-01-01 00:49:47\t2016-01-01 01:04:44\t1\t2.3\t1\tN\t141\t137\t1\t11.0\t0.5\t0.5\t2.45\t0.0\t0.3\t14.75\tNULL\tNULL\n",
            "1\t2016-01-01 00:41:58\t2016-01-01 01:22:06\t1\t13.8\t1\tN\t100\t53\t2\t43.0\t0.5\t0.5\t0.0\t0.0\t0.3\t44.3\tNULL\tNULL\n",
            "2\t2016-01-01 00:25:28\t2016-01-01 00:55:46\t5\t3.46\t1\tN\t48\t79\t2\t20.0\t0.5\t0.5\t0.0\t0.0\t0.3\t21.3\tNULL\tNULL\n",
            "2\t2016-01-01 00:56:57\t2016-01-01 01:02:24\t4\t0.83\t1\tN\t79\t107\t2\t5.5\t0.5\t0.5\t0.0\t0.0\t0.3\t6.8\tNULL\tNULL\n",
            "2\t2016-01-01 00:10:08\t2016-01-01 00:23:05\t1\t0.87\t1\tN\t164\t164\t2\t7.0\t0.5\t0.5\t0.0\t0.0\t0.3\t8.3\tNULL\tNULL\n",
            "\n",
            "\n",
            "\n"
          ]
        }
      ]
    },
    {
      "cell_type": "markdown",
      "source": [
        "# Coloque a partir daqui as suas Respostas !!!"
      ],
      "metadata": {
        "id": "H4wPApBbnkfo"
      }
    },
    {
      "cell_type": "code",
      "source": [
        "# Questão 1\n",
        "# Existem dados na tabela duck_weather que não seguem o padrão dos outros dados ou estão nulos, trate os dados e escreva uma breve explicação das decisões que você tomou\n",
        "\n",
        "# Questão 2\n",
        "# Existe corridas com mais de 4 passageiros na base, trate os dados e escreva uma breve explicação das decisões que você tomou\n",
        "\n",
        "# Questão 3\n",
        "# Crie e mostre um histograma com as temperaturas médias por mês do ano de 2016\n",
        "\n",
        "# Questão 4\n",
        "# Crie uma regressão mostrando a relação entre a distância percorrida (trip_distance) e o valor pago da tarifa (total_amount)\n",
        "\n",
        "# Questão 5\n",
        "# Crie e mostre uma relação entre a temperatura (average_temperature) e o tempo da viagem (tpep_pickup_datetime - tpep_dropoff_datetime)\n",
        "\n",
        "# Questão 6\n",
        "# Como prever a tarifa final sabendo a distância a ser percorrida e a hora da chamada do taxi ?\n",
        "\n",
        "\n"
      ],
      "metadata": {
        "id": "mdarIfk8nt4H"
      },
      "execution_count": null,
      "outputs": []
    }
  ]
}